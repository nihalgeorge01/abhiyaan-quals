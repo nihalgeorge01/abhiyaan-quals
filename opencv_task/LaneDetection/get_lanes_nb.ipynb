{
 "cells": [
  {
   "cell_type": "code",
   "execution_count": 64,
   "metadata": {},
   "outputs": [],
   "source": [
    "#!/usr/bin/python3\n",
    "\n",
    "# imports\n",
    "import numpy as np\n",
    "import cv2\n",
    "import imutils"
   ]
  },
  {
   "cell_type": "code",
   "execution_count": 66,
   "metadata": {},
   "outputs": [],
   "source": [
    "# load the input image (whose path was supplied via command line\n",
    "# argument) and display the image to our screen\n",
    "image = cv2.imread(\"task1_pic.jpeg\")\n",
    "cv2.imshow(\"Image\", image)\n",
    "cv2.waitKey(0)\n",
    "cv2.destroyAllWindows()\n",
    "height = image.shape[0]\n",
    "width = image.shape[1]"
   ]
  },
  {
   "cell_type": "code",
   "execution_count": 67,
   "metadata": {},
   "outputs": [],
   "source": [
    "# thresholding using HSL image, for white and yellow lanes\n",
    "image_hsl = cv2.cvtColor(image, cv2.COLOR_BGR2HLS)\n",
    "\n",
    "white_low = (0, 200, 0)\n",
    "white_high = (255, 255, 255)\n",
    "yellow_low = (20, 100, 100)\n",
    "yellow_high = (40, 255, 255)\n",
    "\n",
    "# return all white areas and yellow areas\n",
    "white_lanes = cv2.inRange(image_hsl, white_low, white_high)\n",
    "yellow_lanes = cv2.inRange(image_hsl, yellow_low, yellow_high)\n",
    "\n",
    "lanes_total = cv2.bitwise_or(white_lanes, yellow_lanes)\n",
    "\n",
    "cv2.imshow(\"White Lanes\", white_lanes)\n",
    "cv2.waitKey(0)\n",
    "cv2.imshow(\"Yellow Lanes\", yellow_lanes)\n",
    "cv2.waitKey(0)\n",
    "cv2.imshow(\"All Lanes\", lanes_total)\n",
    "cv2.waitKey(0)\n",
    "cv2.destroyAllWindows()"
   ]
  },
  {
   "cell_type": "code",
   "execution_count": 68,
   "metadata": {},
   "outputs": [],
   "source": [
    "# Canny edge detection\n",
    "blur = cv2.GaussianBlur(lanes_total, (7, 7), 0)\n",
    "canny = cv2.Canny(blur, 50, 150)\n",
    "\n",
    "cv2.imshow(\"Canny lanes\", canny)\n",
    "cv2.waitKey(0)\n",
    "\n",
    "#cv2.imshow(\"w/ contrast\", canny2)\n",
    "#cv2.waitKey(0)\n",
    "\n",
    "cv2.destroyAllWindows()"
   ]
  },
  {
   "cell_type": "code",
   "execution_count": 69,
   "metadata": {},
   "outputs": [],
   "source": [
    "#Selecting region of interest - the triangle-like shape the road takes from observer to horizon\n",
    "\n",
    "mask2 = np.zeros_like(canny)                              # (height, width)\n",
    "myROI = [(0, height), (0, int(height * 0.9)), (int(width*0.5), int(height * 0.6)), (width, int(height * 0.9)), (width, height)]  # (x, y)\n",
    "cv2.fillPoly(mask2, [np.array(myROI)], 255)\n",
    "\n",
    "#print(mask2)\n",
    "#print(canny)\n",
    "\n",
    "road_lanes = cv2.bitwise_and(mask2, canny)\n",
    "\n",
    "cv2.imshow(\"RoI selection\", road_lanes)\n",
    "cv2.waitKey(0)\n",
    "cv2.destroyAllWindows()"
   ]
  },
  {
   "cell_type": "code",
   "execution_count": 70,
   "metadata": {},
   "outputs": [],
   "source": [
    "# Hough line transform\n",
    "\n",
    "# Probabilistic version\n",
    "lines = cv2.HoughLinesP(road_lanes, 1, np.pi/180, 25, minLineLength = 10, maxLineGap = 10)\n",
    "image2 = image\n",
    "\n",
    "for line in lines:\n",
    "    x1,y1,x2,y2 = line[0]\n",
    "    y3 = height\n",
    "    x3 = ((x2-x1)/(y2-y1))*(y3-y1) + x1\n",
    "    y3 = int(y3)\n",
    "    x3 = int(x3)\n",
    "    y4 = height * 0.6\n",
    "    x4 = ((x2-x1)/(y2-y1))*(y4-y1) + x1\n",
    "    y4 = int(y4)\n",
    "    x4 = int(x4)\n",
    "    cv2.line(image2,(x3,y3),(x4,y4),(0,0,255),10)\n",
    "\n",
    "cv2.imshow(\"Hough Lines\", image2)\n",
    "cv2.waitKey(0)\n",
    "cv2.destroyAllWindows()"
   ]
  }
 ],
 "metadata": {
  "kernelspec": {
   "display_name": "Python 3",
   "language": "python",
   "name": "python3"
  },
  "language_info": {
   "codemirror_mode": {
    "name": "ipython",
    "version": 3
   },
   "file_extension": ".py",
   "mimetype": "text/x-python",
   "name": "python",
   "nbconvert_exporter": "python",
   "pygments_lexer": "ipython3",
   "version": "3.6.9"
  }
 },
 "nbformat": 4,
 "nbformat_minor": 4
}
