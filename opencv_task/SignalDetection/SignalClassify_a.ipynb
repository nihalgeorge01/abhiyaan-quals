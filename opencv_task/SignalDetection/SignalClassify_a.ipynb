{
 "cells": [
  {
   "cell_type": "code",
   "execution_count": 41,
   "metadata": {},
   "outputs": [],
   "source": [
    "#!/usr/bin/python3\n",
    "\n",
    "# imports\n",
    "import numpy as np\n",
    "import cv2\n",
    "import imutils\n",
    "import math"
   ]
  },
  {
   "cell_type": "code",
   "execution_count": 42,
   "metadata": {},
   "outputs": [],
   "source": [
    "# loading image and important params\n",
    "\n",
    "image = cv2.imread(\"3.png\")\n",
    "\n",
    "height = image.shape[0]\n",
    "width = image.shape[1]"
   ]
  },
  {
   "cell_type": "code",
   "execution_count": 43,
   "metadata": {},
   "outputs": [],
   "source": [
    "# defining colour thresholds\n",
    "\n",
    "yellow_low = (20, 100, 100)\n",
    "yellow_high = (40, 255, 255)\n",
    "red_low_1 = (0, 100, 100)\n",
    "red_high_1 = (10, 255, 255)\n",
    "red_low_2 = (170, 100, 100)\n",
    "red_high_2 = (179, 255, 255)\n",
    "green_low = (45, 100, 100)\n",
    "green_high = (75, 255, 255)"
   ]
  },
  {
   "cell_type": "code",
   "execution_count": 44,
   "metadata": {},
   "outputs": [
    {
     "name": "stdout",
     "output_type": "stream",
     "text": [
      "The signal is  YELLOW\n"
     ]
    }
   ],
   "source": [
    "image_hsv = cv2.cvtColor(image, cv2.COLOR_BGR2HSV)\n",
    "signal = \"Unknown\"\n",
    "\n",
    "red_circle_1 = cv2.inRange(image_hsv, red_low_1, red_high_1)\n",
    "red_circle_2 = cv2.inRange(image_hsv, red_low_2, red_high_2)\n",
    "red_circle = cv2.bitwise_or(red_circle_1, red_circle_2)\n",
    "yellow_circle = cv2.inRange(image_hsv, yellow_low, yellow_high)\n",
    "green_circle = cv2.inRange(image_hsv, green_low, green_high)\n",
    "\n",
    "red_value = sum(sum(red_circle))\n",
    "yellow_value = sum(sum(yellow_circle))\n",
    "green_value = sum(sum(green_circle))\n",
    "\n",
    "if red_value > 10000 and yellow_value < 500 and green_value < 500:\n",
    "    signal = \"RED\"\n",
    "elif red_value < 500 and yellow_value > 10000 and green_value < 500:\n",
    "    signal = \"YELLOW\"\n",
    "elif red_value < 500 and yellow_value < 500 and green_value > 10000:\n",
    "    signal = \"GREEN\"\n",
    "\n",
    "'''\n",
    "if np.all(red_low_1 <= image_hsv[int(0.2*height), int(width * 0.5)] <= red_high_1) or np.all(red_low_2 <= image_hsv[int(0.2*height), int(width * 0.5)] <= red_high_2) :\n",
    "    signal = \"Red\"\n",
    "elif np.all(yellow_low <= image_hsv[int(0.5*height), int(width * 0.5)] <= yellow_high):\n",
    "    signal = \"Yellow\"\n",
    "elif np.all(green_low <= image_hsv[int(0.8*height), int(width * 0.5)] <= green_high):\n",
    "    signal = \"Green\"\n",
    "'''\n",
    "\n",
    "print(\"The signal is \", signal)\n",
    "\n",
    "cv2.imshow(\"Image\", image)\n",
    "cv2.waitKey(0)\n",
    "cv2.destroyAllWindows()"
   ]
  }
 ],
 "metadata": {
  "kernelspec": {
   "display_name": "Python 3",
   "language": "python",
   "name": "python3"
  },
  "language_info": {
   "codemirror_mode": {
    "name": "ipython",
    "version": 3
   },
   "file_extension": ".py",
   "mimetype": "text/x-python",
   "name": "python",
   "nbconvert_exporter": "python",
   "pygments_lexer": "ipython3",
   "version": "3.6.9"
  }
 },
 "nbformat": 4,
 "nbformat_minor": 4
}
